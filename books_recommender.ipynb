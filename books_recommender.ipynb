{
 "cells": [
  {
   "cell_type": "code",
   "execution_count": null,
   "metadata": {},
   "outputs": [
    {
     "ename": "",
     "evalue": "",
     "output_type": "error",
     "traceback": [
      "\u001b[1;31mRunning cells with 'Python 3.12.6' requires the ipykernel package.\n",
      "\u001b[1;31mRun the following command to install 'ipykernel' into the Python environment. \n",
      "\u001b[1;31mCommand: '/opt/homebrew/bin/python3 -m pip install ipykernel -U --user --force-reinstall'"
     ]
    }
   ],
   "source": [
    "import pandas as pd\n",
    "import numpy as np\n"
   ]
  },
  {
   "cell_type": "code",
   "execution_count": null,
   "metadata": {},
   "outputs": [],
   "source": [
    "books_df = pd.read_csv('books_data/books.csv',encoding='ISO-8859-1', sep=';', on_bad_lines='skip')\n",
    "ratings_df = pd.read_csv('books_data/ratings.csv',encoding='ISO-8859-1', sep=';')\n",
    "users_df = pd.read_csv('books_data/users.csv',encoding='ISO-8859-1', sep=';')"
   ]
  },
  {
   "cell_type": "code",
   "execution_count": null,
   "metadata": {},
   "outputs": [],
   "source": [
    "books_df.head()"
   ]
  },
  {
   "cell_type": "code",
   "execution_count": null,
   "metadata": {},
   "outputs": [],
   "source": [
    "ratings_df.head()"
   ]
  },
  {
   "cell_type": "code",
   "execution_count": null,
   "metadata": {},
   "outputs": [],
   "source": [
    "users_df.head()"
   ]
  },
  {
   "cell_type": "code",
   "execution_count": 6,
   "metadata": {},
   "outputs": [],
   "source": [
    "cluster_df = ratings_df.merge(users_df,on='User-ID').merge(books_df[['ISBN','Year-Of-Publication','Book-Author']],on='ISBN').dropna().reset_index().drop(columns=['index'])"
   ]
  },
  {
   "cell_type": "code",
   "execution_count": null,
   "metadata": {},
   "outputs": [],
   "source": [
    "cluster_df.head()"
   ]
  },
  {
   "cell_type": "code",
   "execution_count": 8,
   "metadata": {},
   "outputs": [],
   "source": [
    "from sklearn.preprocessing import LabelEncoder\n"
   ]
  },
  {
   "cell_type": "code",
   "execution_count": 9,
   "metadata": {},
   "outputs": [],
   "source": [
    "cat_cols = ['ISBN', 'Location','Book-Author','Year-Of-Publication']"
   ]
  },
  {
   "cell_type": "code",
   "execution_count": 10,
   "metadata": {},
   "outputs": [],
   "source": [
    "les = {}\n",
    "cluster_df = cluster_df[~cluster_df['Year-Of-Publication'].isin(['DK Publishing Inc','Gallimard'])].reset_index().drop(columns=['index'])\n",
    "cluster_df['Year-Of-Publication'] = cluster_df['Year-Of-Publication'].map(str)\n",
    "df = pd.DataFrame(cluster_df)\n",
    "for col in cat_cols:\n",
    "    le = LabelEncoder()\n",
    "    les[col] = le\n",
    "    df[col] = le.fit_transform(cluster_df[col])\n"
   ]
  },
  {
   "cell_type": "code",
   "execution_count": null,
   "metadata": {},
   "outputs": [],
   "source": [
    "df.head()"
   ]
  },
  {
   "cell_type": "code",
   "execution_count": 12,
   "metadata": {},
   "outputs": [],
   "source": [
    "from sklearn.preprocessing import StandardScaler\n",
    "import matplotlib.pyplot as plt\n"
   ]
  },
  {
   "cell_type": "code",
   "execution_count": 13,
   "metadata": {},
   "outputs": [],
   "source": [
    "scaler = StandardScaler().fit(df)\n",
    "s_df = scaler.transform(df)"
   ]
  },
  {
   "cell_type": "code",
   "execution_count": 14,
   "metadata": {},
   "outputs": [],
   "source": [
    "from sklearn.cluster import KMeans\n",
    "# load data\n",
    "inertias = []\n",
    "MAX_CLUSTERS = 34\n",
    "K = range(11,MAX_CLUSTERS,5)"
   ]
  },
  {
   "cell_type": "code",
   "execution_count": null,
   "metadata": {},
   "outputs": [],
   "source": [
    "\n",
    "\n",
    "# try different numbers of clusters\n",
    "for n_clusters in K:\n",
    "    kmeans = KMeans(n_clusters=n_clusters)\n",
    "    kmeans.fit(s_df)\n",
    "    labels = kmeans.predict(s_df)\n",
    "    print(\"Cluster Centroids for {} clusters:\".format(n_clusters))\n",
    "    print(kmeans.cluster_centers_)\n",
    "    print(\"\\nCluster Labels for {} clusters:\".format(n_clusters))\n",
    "    print(labels)\n",
    "    inertias.append(kmeans.inertia_)\n",
    "plt.figure()\n",
    "plt.plot(K,inertias, label='Loss')\n",
    "plt.xlabel('Iteration')\n",
    "plt.ylabel('Loss')\n",
    "plt.legend()\n",
    "plt.show()\n"
   ]
  },
  {
   "cell_type": "code",
   "execution_count": 16,
   "metadata": {},
   "outputs": [],
   "source": [
    "N_CLUSTERS = 26\n",
    "\n",
    "kmeans = KMeans(n_clusters=25)\n",
    "kmeans.fit(s_df)\n",
    "labels = kmeans.predict(s_df)"
   ]
  },
  {
   "cell_type": "code",
   "execution_count": 17,
   "metadata": {},
   "outputs": [],
   "source": [
    "cluster_df['Label'] = labels\n",
    "df['Label'] = labels\n"
   ]
  },
  {
   "cell_type": "code",
   "execution_count": null,
   "metadata": {},
   "outputs": [],
   "source": [
    "cluster_df.head()"
   ]
  },
  {
   "cell_type": "code",
   "execution_count": 19,
   "metadata": {},
   "outputs": [],
   "source": [
    "import xgboost as xgb\n",
    "import sklearn.metrics as metrics\n"
   ]
  },
  {
   "cell_type": "markdown",
   "metadata": {},
   "source": []
  },
  {
   "cell_type": "code",
   "execution_count": 78,
   "metadata": {},
   "outputs": [],
   "source": [
    "x_cols = ['User-ID','ISBN','Age','Year-Of-Publication','Book-Author','Label']\n",
    "y_cols = ['Book-Rating']\n",
    "msk = np.random.rand(len(df)) < .8\n",
    "\n",
    "X_train = df[msk][x_cols]\n",
    "y_train = df[msk][y_cols]\n",
    "\n",
    "X_test = df[~msk][x_cols]\n",
    "y_test = df[~msk][y_cols]\n"
   ]
  },
  {
   "cell_type": "code",
   "execution_count": 79,
   "metadata": {},
   "outputs": [],
   "source": [
    "def train_test_xgb(X_train,y_train,X_test,y_test):\n",
    "    xgb_model = xgb.XGBClassifier(objective='multi:softmax', random_state=42)\n",
    "    xgb_model.fit(X_train, y_train)\n",
    "    \n",
    "    y_pred = xgb_model.predict(X_test)\n",
    "    acc = metrics.accuracy_score(y_test, y_pred)\n",
    "    dist = metrics.mean_absolute_error(y_test,y_pred)\n",
    "    xgb_model.save_model('xgboost_model'+str(acc)+'.json')\n",
    "    print('XGB Accuracy: %.9f%%' % (acc*100))\n",
    "    print('Mean absoulte error: ', dist)\n",
    "    return acc"
   ]
  },
  {
   "cell_type": "code",
   "execution_count": null,
   "metadata": {},
   "outputs": [],
   "source": [
    "train_test_xgb(X_train,y_train,X_test,y_test)"
   ]
  },
  {
   "cell_type": "code",
   "execution_count": null,
   "metadata": {},
   "outputs": [],
   "source": [
    "cluster_df.groupby('User-ID').count().reset_index().sort_values(by='ISBN')['ISBN'].quantile(.8)"
   ]
  },
  {
   "cell_type": "code",
   "execution_count": null,
   "metadata": {},
   "outputs": [],
   "source": []
  },
  {
   "cell_type": "code",
   "execution_count": null,
   "metadata": {},
   "outputs": [],
   "source": [
    "ratings_df.head()"
   ]
  },
  {
   "cell_type": "code",
   "execution_count": null,
   "metadata": {},
   "outputs": [],
   "source": []
  }
 ],
 "metadata": {
  "kernelspec": {
   "display_name": "Python 3",
   "language": "python",
   "name": "python3"
  },
  "language_info": {
   "codemirror_mode": {
    "name": "ipython",
    "version": 3
   },
   "file_extension": ".py",
   "mimetype": "text/x-python",
   "name": "python",
   "nbconvert_exporter": "python",
   "pygments_lexer": "ipython3",
   "version": "3.12.6"
  }
 },
 "nbformat": 4,
 "nbformat_minor": 2
}
